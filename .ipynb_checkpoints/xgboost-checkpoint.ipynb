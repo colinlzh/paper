{
 "cells": [
  {
   "cell_type": "code",
   "execution_count": null,
   "metadata": {
    "collapsed": false
   },
   "outputs": [],
   "source": [
    "%matplotlib inline\n",
    "from pyspark.mllib.tree import RandomForest\n",
    "import xgboost as xgb\n",
    "from pyspark.mllib.util import MLUtils\n",
    "from pyspark.mllib.tree import GradientBoostedTrees\n",
    "import matplotlib\n",
    "import numpy as np\n",
    "from operator import add\n",
    "import matplotlib.pyplot as plt\n",
    "from pyspark.mllib.regression import LabeledPoint\n",
    "l=sc.textFile(\"./abnormal15\",1000)\n",
    "f=feature.map(lambda x:x.split(\" \")).map(tonum)\n",
    "f=f.zip(label)\n",
    "(train, test) = f.randomSplit([0.7, 0.3],1)\n",
    "t=train\n",
    "data=np.array(t.map(lambda x:x[0]).collect())\n",
    "label=np.array(t.map(lambda x:float(x[1])).collect())\n",
    "xgtrain = xgb.DMatrix( data, label=label)\n",
    "t=test\n",
    "data=np.array(t.map(lambda x:x[0]).collect())\n",
    "label=np.array(t.map(lambda x:float(x[1])).collect())\n",
    "xgtest = xgb.DMatrix( data, label=label)"
   ]
  },
  {
   "cell_type": "code",
   "execution_count": null,
   "metadata": {
    "collapsed": false
   },
   "outputs": [],
   "source": [
    "from pyspark.mllib.classification import LogisticRegressionWithLBFGS, LogisticRegressionModel,LogisticRegressionWithSGD\n",
    "model2 = LogisticRegressionWithLBFGS.train(train,5,regParam =0.001,regType='l2')\n",
    "        # Evaluating the model on training data\n",
    "labelsAndPreds2 = test.map(lambda p: (p.label, model2.predict(p.features)))\n",
    "labelsAndPreds2.filter(lambda x:x[0]==x[1]).count()"
   ]
  },
  {
   "cell_type": "code",
   "execution_count": null,
   "metadata": {
    "collapsed": true
   },
   "outputs": [],
   "source": [
    "t=train\n",
    "data=np.array(t.map(lambda x:x.features).collect())\n",
    "label=np.array(t.map(lambda x:x.label).collect())\n",
    "xgtrain = xgb.DMatrix( data, label=label)\n",
    "t=test\n",
    "data=np.array(t.map(lambda x:x.features).collect())\n",
    "label=np.array(t.map(lambda x:x.label).collect())\n",
    "xgtest = xgb.DMatrix( data, label=label)"
   ]
  },
  {
   "cell_type": "code",
   "execution_count": null,
   "metadata": {
    "collapsed": true
   },
   "outputs": [],
   "source": [
    "# t=train\n",
    "# data=np.array(t.map(lambda x:x.features).collect())\n",
    "# label=np.array(t.map(lambda x:x.label).collect())\n",
    "# xgtrain = xgb.DMatrix( data, label=label)\n",
    "# t=test\n",
    "# data=np.array(t.map(lambda x:x.features).collect())\n",
    "# label=np.array(t.map(lambda x:x.label).collect())\n",
    "# xgtest = xgb.DMatrix( data, label=label)\n",
    "params={\n",
    "'booster':'gbtree',\n",
    "# 这里手写数字是0-9，是一个多类的问题，因此采用了multisoft多分类器，\n",
    "'objective': 'binary:logistic', \n",
    "'subsample':1,\n",
    "'gamma':0.5,  # 在树的叶子节点下一个分区的最小损失，越大算法模型越保守 。[0:]\n",
    "'max_depth':3, # 构建树的深度 [1:]\n",
    "#'lambda':450,  # L2 正则项权重\n",
    "'colsample_bytree':0.8, # 构建树树时的采样比率 (0:1]\n",
    "'min_child_weight':9,\n",
    "'silent':1 ,\n",
    "'eta': 0.1, # 如同学习率\n",
    "'seed':710,\n",
    "'nthread':4,# cpu 线程数,根据自己U的个数适当调整\n",
    "}\n",
    "plst = list(params.items())\n",
    "\n",
    "# return 训练和验证的错误率\n",
    "watchlist = [(xgtrain, 'train')]\n",
    "# watchlist = [(xgtrain, 'train'),(xgtest, 'val')]\n",
    "num_rounds=3000\n",
    "# training model \n",
    "# early_stopping_rounds 当设置的迭代次数较大时，early_stopping_rounds 可在一定的迭代次数内准确率没有提升就停止训练\n",
    "model = xgb.train(plst, xgtrain, num_rounds, watchlist,early_stopping_rounds=50)\n",
    "#model.save_model('./model/xgb.model') # 用于存储训练出的模型\n",
    "preds = model.predict(xgtest,ntree_limit=model.best_iteration)"
   ]
  }
 ],
 "metadata": {
  "kernelspec": {
   "display_name": "PySpark ",
   "language": "python",
   "name": "spark"
  },
  "language_info": {
   "codemirror_mode": {
    "name": "ipython",
    "version": 3
   },
   "file_extension": ".py",
   "mimetype": "text/x-python",
   "name": "python",
   "nbconvert_exporter": "python",
   "pygments_lexer": "ipython3",
   "version": "3.5.2"
  }
 },
 "nbformat": 4,
 "nbformat_minor": 1
}
