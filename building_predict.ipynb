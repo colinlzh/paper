{
 "cells": [
  {
   "cell_type": "code",
   "execution_count": 17,
   "metadata": {
    "collapsed": false
   },
   "outputs": [],
   "source": [
    "# -*- coding:utf-8 -*- ＃\n",
    "import sys\n",
    "import time\n",
    "import networkx as nx\n",
    "from operator import add\n",
    "import numpy as np\n",
    "def buildinginone(l):\n",
    "    if u\"图书馆\" in l:\n",
    "        return u\"图书馆\"\n",
    "    if u\"工程训练中心\" in l:\n",
    "        return u\"工程训练中心\"\n",
    "    if u\"新行政楼\" in l:\n",
    "        return u\"新行政楼\"\n",
    "    if u\"系统生物\" in l:\n",
    "        return u\"系统生物\"\n",
    "    if u\"航空航天\" in l:\n",
    "        return u\"航空航天学院\"\n",
    "    if u\"宿舍\" in l:\n",
    "        return \"宿舍\"\n",
    "    return l"
   ]
  },
  {
   "cell_type": "code",
   "execution_count": 2,
   "metadata": {
    "collapsed": true
   },
   "outputs": [],
   "source": [
    "holiday=['2014-10-01', '2014-10-02', '2014-10-03','2014-10-04', '2014-10-05', '2014-10-06', '2014-10-07','2015-01-01','2015-01-02','2015-01-03']"
   ]
  },
  {
   "cell_type": "code",
   "execution_count": 18,
   "metadata": {
    "collapsed": true
   },
   "outputs": [],
   "source": [
    "day=sc.textFile(\"./place\",100).map(lambda x:x.split(\",\")[0]).distinct().filter(lambda x:x not in holiday)\n",
    "dl=sorted(day.collect())\n",
    "data=sc.textFile(\"./place\",100).map(lambda x:x.split(\",\",2)).map(lambda x:(buildinginone(x[1]),(x[0],x[2]))).groupByKey().mapValues(list)"
   ]
  },
  {
   "cell_type": "code",
   "execution_count": 47,
   "metadata": {
    "collapsed": true
   },
   "outputs": [],
   "source": [
    "def tuple2dic(l):\n",
    "    dic={}\n",
    "    for i in l:\n",
    "        if i[0] not in holiday:\n",
    "            dic[i[0]]=eval(i[1])+dic.get(i[0],[])\n",
    "    for j in dl:\n",
    "        l=dic.get(j,[])\n",
    "        dic[j]=dic.get(j,[])\n",
    "    return dic\n",
    "alldaydata=data.mapValues(tuple2dic)"
   ]
  },
  {
   "cell_type": "code",
   "execution_count": 60,
   "metadata": {
    "collapsed": false
   },
   "outputs": [],
   "source": [
    "# count=alldaydata.map(lambda x:len(x[1])).distinct()\n",
    "place=alldaydata.map(lambda x:x[0]).distinct().collect()\n",
    "datedic={}\n",
    "for i in dl:\n",
    "    datedic[i]=str(dl.index(i))\n",
    "placedic={}\n",
    "for i in place:\n",
    "    placedic[i]=str(place.index(i))"
   ]
  },
  {
   "cell_type": "code",
   "execution_count": 68,
   "metadata": {
    "collapsed": false
   },
   "outputs": [],
   "source": [
    "def extract_feature(l):\n",
    "    length=len(l)\n",
    "    one=0\n",
    "    two=0\n",
    "    three=0\n",
    "    for i in l:\n",
    "        if i<4:\n",
    "            three+=1\n",
    "        if i<3:\n",
    "            two+=1\n",
    "        if i<2:\n",
    "            one+=1\n",
    "    re=[length,one,two,three]\n",
    "    re=map(str,re)\n",
    "    return re\n",
    "input=alldaydata.flatMapValues(lambda x:x.items())\\\n",
    "                .map(lambda x:((x[0],x[1][0]),x[1][1]))\\\n",
    "                .mapValues(extract_feature)\\\n",
    "                .map(lambda x:placedic.get(x[0][0])+\",\"+datedic.get(x[0][1])+\",\"+\",\".join(x[1]))"
   ]
  },
  {
   "cell_type": "code",
   "execution_count": 69,
   "metadata": {
    "collapsed": false
   },
   "outputs": [
    {
     "data": {
      "text/plain": [
       "PythonRDD[101] at RDD at PythonRDD.scala:43"
      ]
     },
     "execution_count": 69,
     "metadata": {},
     "output_type": "execute_result"
    }
   ],
   "source": [
    "input.cache()"
   ]
  },
  {
   "cell_type": "code",
   "execution_count": 71,
   "metadata": {
    "collapsed": false
   },
   "outputs": [
    {
     "data": {
      "text/plain": [
       "'0,64,150,18,25,29'"
      ]
     },
     "execution_count": 71,
     "metadata": {},
     "output_type": "execute_result"
    }
   ],
   "source": [
    "input.first()"
   ]
  },
  {
   "cell_type": "code",
   "execution_count": 18,
   "metadata": {
    "collapsed": false
   },
   "outputs": [],
   "source": [
    "l=[]\n",
    "for i in dl:\n",
    "    l.append(time.localtime(time.mktime(time.strptime(i,\"%Y-%m-%d\"))).tm_wday)"
   ]
  },
  {
   "cell_type": "code",
   "execution_count": 22,
   "metadata": {
    "collapsed": false
   },
   "outputs": [
    {
     "data": {
      "text/plain": [
       "['2014-09-15',\n",
       " '2014-09-16',\n",
       " '2014-09-17',\n",
       " '2014-09-18',\n",
       " '2014-09-19',\n",
       " '2014-09-22',\n",
       " '2014-09-23',\n",
       " '2014-09-24',\n",
       " '2014-09-25',\n",
       " '2014-09-26',\n",
       " '2014-09-29',\n",
       " '2014-09-30',\n",
       " '2014-10-08',\n",
       " '2014-10-09',\n",
       " '2014-10-10',\n",
       " '2014-10-13',\n",
       " '2014-10-14',\n",
       " '2014-10-15',\n",
       " '2014-10-16',\n",
       " '2014-10-17',\n",
       " '2014-10-20',\n",
       " '2014-10-21',\n",
       " '2014-10-22',\n",
       " '2014-10-23',\n",
       " '2014-10-24',\n",
       " '2014-10-27',\n",
       " '2014-10-28',\n",
       " '2014-10-29',\n",
       " '2014-10-30',\n",
       " '2014-10-31',\n",
       " '2014-11-03',\n",
       " '2014-11-04',\n",
       " '2014-11-05',\n",
       " '2014-11-06',\n",
       " '2014-11-07',\n",
       " '2014-11-10',\n",
       " '2014-11-11',\n",
       " '2014-11-12',\n",
       " '2014-11-13',\n",
       " '2014-11-14',\n",
       " '2014-11-17',\n",
       " '2014-11-18',\n",
       " '2014-11-19',\n",
       " '2014-11-20',\n",
       " '2014-11-21',\n",
       " '2014-11-24',\n",
       " '2014-11-25',\n",
       " '2014-11-26',\n",
       " '2014-11-27',\n",
       " '2014-11-28',\n",
       " '2014-12-01',\n",
       " '2014-12-02',\n",
       " '2014-12-03',\n",
       " '2014-12-04',\n",
       " '2014-12-05',\n",
       " '2014-12-08',\n",
       " '2014-12-09',\n",
       " '2014-12-10',\n",
       " '2014-12-11',\n",
       " '2014-12-12',\n",
       " '2014-12-15',\n",
       " '2014-12-16',\n",
       " '2014-12-17',\n",
       " '2014-12-18',\n",
       " '2014-12-19',\n",
       " '2014-12-22',\n",
       " '2014-12-23',\n",
       " '2014-12-24',\n",
       " '2014-12-25',\n",
       " '2014-12-26',\n",
       " '2014-12-29',\n",
       " '2014-12-30',\n",
       " '2014-12-31',\n",
       " '2015-01-05',\n",
       " '2015-01-06',\n",
       " '2015-01-07',\n",
       " '2015-01-08',\n",
       " '2015-01-09',\n",
       " '2015-01-12',\n",
       " '2015-01-13',\n",
       " '2015-01-14',\n",
       " '2015-01-15',\n",
       " '2015-01-16']"
      ]
     },
     "execution_count": 22,
     "metadata": {},
     "output_type": "execute_result"
    }
   ],
   "source": [
    "dl.sort()\n",
    "dl"
   ]
  },
  {
   "cell_type": "code",
   "execution_count": null,
   "metadata": {
    "collapsed": true
   },
   "outputs": [],
   "source": []
  }
 ],
 "metadata": {
  "kernelspec": {
   "display_name": "PySpark (Spark 1.5.2)",
   "language": "python",
   "name": "spark"
  },
  "language_info": {
   "codemirror_mode": {
    "name": "ipython",
    "version": 3
   },
   "file_extension": ".py",
   "mimetype": "text/x-python",
   "name": "python",
   "nbconvert_exporter": "python",
   "pygments_lexer": "ipython3",
   "version": "3.5.2"
  }
 },
 "nbformat": 4,
 "nbformat_minor": 1
}
