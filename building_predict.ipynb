{
 "cells": [
  {
   "cell_type": "code",
   "execution_count": 1,
   "metadata": {
    "collapsed": false
   },
   "outputs": [
    {
     "data": {
      "text/plain": [
       "PythonRDD[29] at RDD at PythonRDD.scala:48"
      ]
     },
     "execution_count": 1,
     "metadata": {},
     "output_type": "execute_result"
    }
   ],
   "source": [
    "# -*- coding:utf-8 -*- ＃\n",
    "import sys\n",
    "import time\n",
    "import networkx as nx\n",
    "from operator import add\n",
    "import numpy as np\n",
    "def buildinginone(l):\n",
    "    if u\"图书馆\" in l:\n",
    "        return u\"图书馆\"\n",
    "    if u\"工程训练中心\" in l:\n",
    "        return u\"工程训练中心\"\n",
    "    if u\"新行政楼\" in l:\n",
    "        return u\"新行政楼\"\n",
    "    if u\"系统生物\" in l:\n",
    "        return u\"系统生物\"\n",
    "    if u\"航空航天\" in l:\n",
    "        return u\"航空航天学院\"\n",
    "    if u\"宿舍\" in l:\n",
    "        return \"宿舍\"\n",
    "    return l\n",
    "\n",
    "holiday=['2014-10-01', '2014-10-02', '2014-10-03','2014-10-04', '2014-10-05', '2014-10-06', '2014-10-07','2015-01-01','2015-01-02','2015-01-03']\n",
    "\n",
    "day=sc.textFile(\"./place\",100).map(lambda x:x.split(\",\")[0]).distinct().filter(lambda x:x not in holiday)\n",
    "dl=sorted(day.collect())\n",
    "data=sc.textFile(\"./place\",100).map(lambda x:x.split(\",\",2)).map(lambda x:(buildinginone(x[1]),(x[0],x[2]))).groupByKey().mapValues(list)\n",
    "\n",
    "def tuple2dic(l):\n",
    "    dic={}\n",
    "    for i in l:\n",
    "        if i[0] not in holiday:\n",
    "            dic[i[0]]=eval(i[1])+dic.get(i[0],[])\n",
    "    for j in dl:\n",
    "        l=dic.get(j,[])\n",
    "        dic[j]=dic.get(j,[])\n",
    "    return dic\n",
    "alldaydata=data.mapValues(tuple2dic)\n",
    "\n",
    "# count=alldaydata.map(lambda x:len(x[1])).distinct()\n",
    "place=alldaydata.map(lambda x:x[0]).distinct().collect()\n",
    "datedic={}\n",
    "for i in dl:\n",
    "    datedic[i]=str(dl.index(i))\n",
    "placedic={}\n",
    "for i in place:\n",
    "    placedic[i]=str(place.index(i))\n",
    "\n",
    "def extract_feature(l):\n",
    "    length=len(l)\n",
    "    one=0\n",
    "    two=0\n",
    "    three=0\n",
    "    for i in l:\n",
    "        if i<4:\n",
    "            three+=1\n",
    "        if i<3:\n",
    "            two+=1\n",
    "        if i<2:\n",
    "            one+=1\n",
    "    re=[length,one,two,three]\n",
    "#     re=list(map(str,re))\n",
    "    return re\n",
    "input=alldaydata.flatMapValues(lambda x:x.items())\\\n",
    "                .map(lambda x:((x[0],x[1][0]),x[1][1]))\\\n",
    "                .mapValues(extract_feature)\\\n",
    "                .map(lambda x:((placedic.get(x[0][0]),datedic.get(x[0][1])),x[1]))\n",
    "input.cache()\n",
    "\n",
    "l=[]\n",
    "for i in dl:\n",
    "    l.append(time.localtime(time.mktime(time.strptime(i,\"%Y-%m-%d\"))).tm_wday)\n",
    "\n",
    "act=sc.textFile(\"./actlist\").map(lambda x:x.split(\"\\t\"))\\\n",
    "        .map(lambda x:((x[2],x[0].replace(\"/\",\"-\")),1))\\\n",
    "        .map(lambda x:((placedic.get(x[0][0]),datedic.get(x[0][1])),1))\n",
    "# active list shit shit shti\n",
    "\n",
    "final=input.leftOuterJoin(act).mapValues(lambda x:x[0]+([1] if x[1]==1 else [0])).map(lambda x:[int(x[0][0])]+[int(x[0][1])]+x[1])\n",
    "\n",
    "# 分类\n",
    "one=final.filter(lambda x:x[-1]==1)\n",
    "no=final.filter(lambda x:x[-1]==0)\n",
    "one.cache()\n",
    "no.cache()"
   ]
  },
  {
   "cell_type": "code",
   "execution_count": 2,
   "metadata": {
    "collapsed": true
   },
   "outputs": [],
   "source": [
    "av=0"
   ]
  },
  {
   "cell_type": "code",
   "execution_count": 4,
   "metadata": {
    "collapsed": false
   },
   "outputs": [],
   "source": [
    "import xgboost as xgb\n",
    "def qua(l):\n",
    "    n=(len(l)/4)\n",
    "    re=[]\n",
    "    re.append(l[:n])\n",
    "    re.append(l[n:n*2])\n",
    "    re.append(l[n*2:n*3])\n",
    "    re.append(l[n*3:])\n",
    "    return re\n",
    "no=[]\n",
    "one=[]\n",
    "re=[]\n",
    "f=open(\"./part-00000\",'r')\n",
    "for i in f:\n",
    "    no.append(list(map(int,i.split(\",\"))))\n",
    "f=open(\"./part-00000 (1)\",'r')\n",
    "for i in f:\n",
    "    one.append(list(map(int,i.split(\",\"))))\n",
    "f.close()\n",
    "al=np.array(no+one)\n",
    "data=al[:,:-1]\n",
    "label=al[:,-1]\n",
    "xgal = xgb.DMatrix( data, label=label)\n",
    "no=np.array(no)\n",
    "one=np.array(one)\n",
    "np.random.shuffle(no)\n",
    "np.random.shuffle(one)"
   ]
  },
  {
   "cell_type": "code",
   "execution_count": null,
   "metadata": {
    "collapsed": false
   },
   "outputs": [],
   "source": [
    "auclist=[]\n",
    "np.random.shuffle(no)\n",
    "np.random.shuffle(one)\n",
    "# for i in range(5):\n",
    "for bb in [1]:\n",
    "    al=qua(no)\n",
    "    smallno=no[:(36*bb)]\n",
    "    re=[]\n",
    "    nl=qua(smallno)\n",
    "    ol=qua(one)\n",
    "    big=0\n",
    "    right=0\n",
    "    au=[]\n",
    "    for i in range(4):\n",
    "        test=np.row_stack((ol[i],nl[i]))\n",
    "        train=\"\"\n",
    "        for j in range(4):\n",
    "            if j==i:\n",
    "                continue\n",
    "            if train==\"\":\n",
    "                train=np.row_stack((ol[j],nl[j]))\n",
    "                continue\n",
    "            train=np.row_stack((train,nl[j]))\n",
    "            train=np.row_stack((train,ol[j]))\n",
    "        t=train\n",
    "        data=np.array(t)[:,:-1]\n",
    "        label=np.array(t)[:,-1]\n",
    "        xgtrain = xgb.DMatrix( data, label=label)\n",
    "        t=test\n",
    "        data=np.array(t)[:,:-1]\n",
    "        label=np.array(t)[:,-1]\n",
    "        xgtest = xgb.DMatrix( data, label=label)\n",
    "\n",
    "        params={\n",
    "        'booster':'gbtree',\n",
    "        # 这里手写数字是0-9，是一个多类的问题，因此采用了multisoft多分类器，\n",
    "        'objective': 'binary:logistic', \n",
    "        'subsample':1,\n",
    "        'gamma':0.5,  # 在树的叶子节点下一个分区的最小损失，越大算法模型越保守 。[0:]\n",
    "        'max_depth':4, # 构建树的深度 [1:]\n",
    "        'colsample_bytree':0.7, # 构建树树时的采样比率 (0:1]\n",
    "        'min_child_weight':3,\n",
    "        'silent':0 ,\n",
    "        'eta': 0.1, # 如同学习率\n",
    "        'seed':710,\n",
    "        'nthread':4,# cpu 线程数,根据自己U的个数适当调整\n",
    "        'eval_metric':'auc'\n",
    "        }\n",
    "        plst = list(params.items())\n",
    "        #         xgtest=xgal\n",
    "        watchlist = [(xgtrain, 'train'),(xgtest, 'val')]\n",
    "        num_rounds=3000\n",
    "        model = xgb.train(plst, xgtrain, num_rounds, watchlist,early_stopping_rounds=50)\n",
    "        preds = model.predict(xgtest,ntree_limit=model.best_iteration)\n",
    "#         hold=(174/bb)/(1+bb)\n",
    "        hold=1/(1+bb)\n",
    "        for i in range(len(preds)):\n",
    "            t=[]\n",
    "            t.append(xgtest.get_label()[i])\n",
    "            t.append(preds[i])\n",
    "            au.append(t)\n",
    "            if t[0]==1:\n",
    "                re.append(t[1]) \n",
    "            if t[1]>hold:\n",
    "                big+=1\n",
    "                if t[0]==1:\n",
    "                    right+=1\n",
    "from sklearn.metrics import roc_auc_score\n",
    "auc=np.array(au)\n",
    "y = auc[:,0] \n",
    "pred =auc[:,1]\n",
    "av+=(roc_auc_score(y,pred))\n",
    "print(big)\n",
    "print(right)\n",
    "print(sorted(re))\n",
    "av"
   ]
  },
  {
   "cell_type": "code",
   "execution_count": null,
   "metadata": {
    "collapsed": false
   },
   "outputs": [],
   "source": [
    "print(roc_auc_score(y,pred))\n",
    "\n",
    "av"
   ]
  },
  {
   "cell_type": "code",
   "execution_count": 354,
   "metadata": {
    "collapsed": false
   },
   "outputs": [
    {
     "data": {
      "image/png": "[encoded data removed]",
      "text/plain": [
       "<matplotlib.figure.Figure at 0xa67c780>"
      ]
     },
     "metadata": {},
     "output_type": "display_data"
    }
   ],
   "source": [
    "import numpy as np  \n",
    "from scipy import interp\n",
    "import matplotlib.pyplot as plt\n",
    "from sklearn.metrics import roc_curve  \n",
    "lw = 2\n",
    "\n",
    "# y = np.array([0,0,1,1,0,0,1,1,0,0,1,1,0,0,1,0])   \n",
    "# pred = np.array([0.1, 0.4, 0.35, 0.28,0.1,0.1,0.7,0.3,0.1, 0.41, 0.35, 0.8,0.32,0.1,0.7,0.3])  \n",
    "fpr, tpr, thresholds = roc_curve(y, pred)  \n",
    "# print(fpr)      # array([ 0. ,  0.5,  0.5,  1. ])  \n",
    "# print(tpr)      # array([ 0.5,  0.5,  1. ,  1. ])  \n",
    "# print(thresholds)      #array([ 0.8 ,  0.4 ,  0.35,  0.1 ])  \n",
    "\n",
    "from sklearn.metrics import auc  \n",
    "mean_tpr = 0.0\n",
    "mean_fpr = np.linspace(0, 1, 10)\n",
    "mean_tpr += interp(mean_fpr, fpr, tpr)\n",
    "mean_tpr[0] = 0.0\n",
    "roc_auc = auc(fpr, tpr)\n",
    "plt.plot(fpr, tpr, lw=lw,\n",
    "             label='sample ratio 1:%d(auc = %0.4f)' % ( bb,roc_auc))\n",
    "plt.xlim([-0.05, 1.05])\n",
    "plt.ylim([-0.05, 1.05])\n",
    "plt.xlabel('False Positive Rate')\n",
    "plt.ylabel('True Positive Rate')\n",
    "plt.title('1:%d sample ratio ROC' % (bb))\n",
    "plt.legend(loc=\"lower right\")\n",
    "plt.show()"
   ]
  },
  {
   "cell_type": "code",
   "execution_count": 75,
   "metadata": {
    "collapsed": false,
    "scrolled": true
   },
   "outputs": [
    {
     "name": "stdout",
     "output_type": "stream",
     "text": [
      "8881\n",
      "133\n",
      "[0.001856906, 0.0022635702, 0.0028177397, 0.0029285192, 0.0036049043, 0.0053529837, 0.0057674469, 0.0086967042, 0.013449124, 0.015022041, 0.018358709, 0.022962544, 0.024896517, 0.025524419, 0.032167852, 0.033955615, 0.037622567, 0.038688436, 0.041348111, 0.06791646, 0.07312236, 0.078697771, 0.084885187, 0.085981473, 0.086795993, 0.09359587, 0.096546605, 0.097359948, 0.10552026, 0.10564294, 0.11578453, 0.11807193, 0.13114719, 0.1341252, 0.14395894, 0.1582197, 0.16904879, 0.17419335, 0.18372935, 0.19291973, 0.20162097, 0.20306894, 0.22684979, 0.24201031, 0.25136387, 0.2682201, 0.27164638, 0.27164638, 0.27164638, 0.27164638, 0.27164638, 0.28197607, 0.29329067, 0.30112773, 0.30250049, 0.30377784, 0.30437091, 0.30682716, 0.30729237, 0.30937552, 0.31400114, 0.31700259, 0.31837717, 0.3208794, 0.32282585, 0.32645249, 0.33725429, 0.33725429, 0.33725429, 0.34027943, 0.34027943, 0.34027943, 0.3428672, 0.3448793, 0.35288268, 0.3597697, 0.36215344, 0.36721313, 0.3783451, 0.38606241, 0.39286879, 0.39291921, 0.39667574, 0.39667574, 0.3973766, 0.39954025, 0.40882969, 0.40949476, 0.41455752, 0.41455752, 0.41481411, 0.41835439, 0.42725298, 0.43466029, 0.43986905, 0.44187099, 0.45064002, 0.46066251, 0.4648152, 0.46970183, 0.47092533, 0.47562018, 0.48221594, 0.48927739, 0.49837056, 0.5008502, 0.5008502, 0.50758457, 0.51062232, 0.51426864, 0.51571208, 0.51840454, 0.53107226, 0.53142905, 0.53352004, 0.53553581, 0.55484205, 0.55988139, 0.56849343, 0.57449669, 0.57823014, 0.5929445, 0.59821051, 0.60309756, 0.61850119, 0.61893159, 0.62080795, 0.64737761, 0.65266556, 0.66148949, 0.6649673, 0.66545022, 0.69979757, 0.7068193, 0.73132652, 0.75078768, 0.76160496, 0.76346076, 0.78377193, 0.79278111, 0.79774684, 0.80664927, 0.83639216, 0.85609579]\n"
     ]
    }
   ],
   "source": [
    "print(big)\n",
    "print(right)\n",
    "print(sorted(re))"
   ]
  },
  {
   "cell_type": "code",
   "execution_count": 254,
   "metadata": {
    "collapsed": false
   },
   "outputs": [
    {
     "data": {
      "text/plain": [
       "array([[ 8,  9, 10, 11],\n",
       "       [ 4,  5,  6,  7],\n",
       "       [ 0,  1,  2,  3],\n",
       "       [12, 13, 14, 15]])"
      ]
     },
     "execution_count": 254,
     "metadata": {},
     "output_type": "execute_result"
    }
   ],
   "source": [
    "t=np.arange(16).reshape((4,4))\n",
    "np.random.shuffle(t)\n",
    "t"
   ]
  },
  {
   "cell_type": "code",
   "execution_count": 258,
   "metadata": {
    "collapsed": false
   },
   "outputs": [],
   "source": [
    "t=np.row_stack((t,t))"
   ]
  },
  {
   "cell_type": "code",
   "execution_count": 259,
   "metadata": {
    "collapsed": false
   },
   "outputs": [
    {
     "data": {
      "text/plain": [
       "array([[ 8,  9, 10, 11],\n",
       "       [ 4,  5,  6,  7],\n",
       "       [ 0,  1,  2,  3],\n",
       "       [12, 13, 14, 15],\n",
       "       [ 8,  9, 10, 11],\n",
       "       [ 4,  5,  6,  7],\n",
       "       [ 0,  1,  2,  3],\n",
       "       [12, 13, 14, 15],\n",
       "       [ 8,  9, 10, 11],\n",
       "       [ 4,  5,  6,  7],\n",
       "       [ 0,  1,  2,  3],\n",
       "       [12, 13, 14, 15],\n",
       "       [ 8,  9, 10, 11],\n",
       "       [ 4,  5,  6,  7],\n",
       "       [ 0,  1,  2,  3],\n",
       "       [12, 13, 14, 15]])"
      ]
     },
     "execution_count": 259,
     "metadata": {},
     "output_type": "execute_result"
    }
   ],
   "source": [
    "t"
   ]
  },
  {
   "cell_type": "code",
   "execution_count": 229,
   "metadata": {
    "collapsed": false
   },
   "outputs": [
    {
     "data": {
      "text/plain": [
       "array([8, 9, 1, 4, 6, 2, 3, 5, 7])"
      ]
     },
     "execution_count": 229,
     "metadata": {},
     "output_type": "execute_result"
    }
   ],
   "source": [
    "np.random.shuffle(t)\n",
    "t"
   ]
  },
  {
   "cell_type": "code",
   "execution_count": 223,
   "metadata": {
    "collapsed": false
   },
   "outputs": [
    {
     "data": {
      "text/plain": [
       "array([ 0.        ,  0.02735617], dtype=float32)"
      ]
     },
     "execution_count": 223,
     "metadata": {},
     "output_type": "execute_result"
    }
   ],
   "source": [
    "t"
   ]
  },
  {
   "cell_type": "code",
   "execution_count": null,
   "metadata": {
    "collapsed": true
   },
   "outputs": [],
   "source": [
    "np.random.sample"
   ]
  }
 ],
 "metadata": {
  "kernelspec": {
   "display_name": "PySpark ",
   "language": "python",
   "name": "spark"
  },
  "language_info": {
   "codemirror_mode": {
    "name": "ipython",
    "version": 3
   },
   "file_extension": ".py",
   "mimetype": "text/x-python",
   "name": "python",
   "nbconvert_exporter": "python",
   "pygments_lexer": "ipython3",
   "version": "3.5.2"
  }
 },
 "nbformat": 4,
 "nbformat_minor": 1
}
