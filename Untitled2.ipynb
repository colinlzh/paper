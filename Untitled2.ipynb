{
 "cells": [
  {
   "cell_type": "code",
   "execution_count": 206,
   "metadata": {
    "collapsed": false
   },
   "outputs": [],
   "source": [
    "# -*- coding:utf-8 -*- ＃\n",
    "import sys\n",
    "import time\n",
    "import networkx as nx\n",
    "from operator import add\n",
    "def sor(l):\n",
    "    l=sorted(l,key=lambda x:x.split(\" \")[1]+x.split(\" \")[2]+x.split(\" \")[0])\n",
    "    return l\n",
    "def location_to_motif(locations):\n",
    "    dateFlag = ''\n",
    "    motifList = []\n",
    "    for i in range(0,len(locations)):\n",
    "        t=locations[i].split(\" \")\n",
    "        _date = t[1]\n",
    "        tm = t[2]\n",
    "        station = t[0]\n",
    "        if dateFlag=='' or \\\n",
    "        time.mktime(time.strptime(_date+\" \"+tm,\"%Y-%m-%d %H:%M:%S\"))-time.mktime(time.strptime(dateFlag,\"%Y-%m-%d\"))>=97200 or\\\n",
    "                (tm>\"03 \" and timeFlag<\"03\"):#if another day, initialize\n",
    "            dateFlag = _date\n",
    "            timeFlag = tm\n",
    "            motifList.append({})\n",
    "            nodeDict = {}\n",
    "        if station not in nodeDict.keys():#map station name to node num\n",
    "            nodeDict[station] = len(nodeDict)\n",
    "        if nodeDict[station] not in motifList[-1].keys():#add the appeared node to today's motif graph\n",
    "            motifList[-1][nodeDict[station]] = []\n",
    "        if (i+1)<len(locations):\n",
    "            ndate=locations[i+1].split(' ')[1]\n",
    "            ntime=locations[i+1].split(' ')[2]\n",
    "            t=time.mktime(time.strptime(_date,\"%Y-%m-%d\"))\n",
    "            tt=time.mktime(time.strptime(ndate+\" \"+ntime,\"%Y-%m-%d %H:%M:%S\"))\n",
    "            if tt-t<97200 and tm>\"03\":#yet is today's\n",
    "                n_station = locations[i+1].split(' ')[0]\n",
    "                if not n_station==station:\n",
    "                    if n_station not in nodeDict.keys():\n",
    "                        nodeDict[n_station] = len(nodeDict)\n",
    "                    if not motifList[-1][nodeDict[station]].count(nodeDict[n_station])>0:\n",
    "                        motifList[-1][nodeDict[station]].append(nodeDict[n_station])\n",
    "\n",
    "    return motifList\n",
    "def location_to_motif_anddate(locations):\n",
    "    dateFlag = ''\n",
    "    motifList = []\n",
    "    for i in range(0,len(locations)):\n",
    "        t=locations[i].split(\" \")\n",
    "        _date = t[1]\n",
    "        _time = t[2]\n",
    "        station = t[0]\n",
    "        if dateFlag=='' or \\\n",
    "         time.mktime(time.strptime(_date+\" \"+_time,\"%Y-%m-%d %H:%M:%S\"))-time.mktime(time.strptime(dateFlag,\"%Y-%m-%d\"))>=97200 or\\\n",
    "                (_time>\"03 \" and timeFlag<\"03\"):\n",
    "            dateFlag = _date #如果不进行这一步的话，说明理论上还要划归到昨天，因此后续轨迹全要划到昨天MOTIF\n",
    "            shit={}\n",
    "            timeFlag = _time\n",
    "            shit[_date]={}\n",
    "            motifList.append(shit)\n",
    "            nodeDict = {}\n",
    "        if station not in nodeDict.keys():#map station name to node num\n",
    "            nodeDict[station] = len(nodeDict)\n",
    "        if nodeDict[station] not in shit[dateFlag].keys():#add the appeared node to today's motif graph\n",
    "            shit[dateFlag][nodeDict[station]] = []\n",
    "        if (i+1)<len(locations):\n",
    "            ndate=locations[i+1].split(' ')[1]\n",
    "            ntime=locations[i+1].split(' ')[2]\n",
    "            t=time.mktime(time.strptime(_date,\"%Y-%m-%d\"))\n",
    "            tt=time.mktime(time.strptime(ndate+\" \"+ntime,\"%Y-%m-%d %H:%M:%S\"))\n",
    "            if (tt-t<97200) and _time>\"03\":#yet is today's\n",
    "                n_station = locations[i+1].split(' ')[0]\n",
    "                if not n_station==station:\n",
    "                    if n_station not in nodeDict.keys():\n",
    "                        nodeDict[n_station] = len(nodeDict)\n",
    "                    if not shit[dateFlag][nodeDict[station]].count(nodeDict[n_station])>0:\n",
    "                        shit[dateFlag][nodeDict[station]].append(nodeDict[n_station])\n",
    "    re=[]\n",
    "    for i in motifList:\n",
    "        temp=list(i.items())\n",
    "        re.append([temp[0][0],temp[0][1]])\n",
    "    return re\n",
    "def style_conv(list_dict):\n",
    "    dicts = str(list_dict).strip('[]')\n",
    "    dicts = dicts.split(', {')\n",
    "    rsl = []\n",
    "    for i in range(0, len(dicts)):\n",
    "        if i ==0:\n",
    "            rsl.append(dicts[i])\n",
    "        else:\n",
    "            rsl.append('{' + dicts[i])\n",
    "    return rsl\n",
    "def count_motif(l):\n",
    "    dic={}\n",
    "    myset=set(l)\n",
    "    for i in myset:\n",
    "        dic[i]=l.count(i)\n",
    "    return dic\n",
    "def motifiso(l):\n",
    "# '''if there is isomorphic motif, set them in one'''\n",
    "    existed=[]\n",
    "    flag=False\n",
    "    for i in l:\n",
    "        name=i\n",
    "        lmotif=nx.DiGraph(eval(name))\n",
    "        if name in existed:\n",
    "            continue\n",
    "        for oldname in existed:\n",
    "            if len(oldname)!=len(name):\n",
    "                continue\n",
    "            oldmotif=nx.DiGraph(eval(oldname))\n",
    "            if nx.is_isomorphic(oldmotif,lmotif):\n",
    "                flag=True\n",
    "                break\n",
    "        if not flag:\n",
    "            existed.append(i)\n",
    "        flag=False\n",
    "    return existed\n",
    "def day_iso(m,l):\n",
    "    re=[]\n",
    "    for i in m:\n",
    "        b=nx.DiGraph(i[1])\n",
    "        for a in l:\n",
    "            if len(a)!=len(str(i[1])):\n",
    "                continue\n",
    "            if nx.is_isomorphic(nx.DiGraph(eval(a)),b):\n",
    "                i[1]=str(a)\n",
    "                break\n",
    "        re.append(i)\n",
    "    return re\n",
    "def iso(m,l):\n",
    "    b=nx.DiGraph(eval(m))\n",
    "    for a in l:\n",
    "        if len(a)!=len(m):\n",
    "            continue\n",
    "        if nx.is_isomorphic(nx.DiGraph(eval(a)),b):\n",
    "            return a\n",
    "    return m\n",
    "def count_abnormal(l):\n",
    "    one=0\n",
    "    two=0\n",
    "    three=0\n",
    "    for i in l:\n",
    "        if(i<4):\n",
    "            three+=1\n",
    "        if(i<3):\n",
    "            two+=1\n",
    "        if(i<2):\n",
    "            one+=1\n",
    "    return [one,two,three]"
   ]
  },
  {
   "cell_type": "code",
   "execution_count": 4,
   "metadata": {
    "collapsed": false
   },
   "outputs": [
    {
     "data": {
      "text/plain": [
       "PythonRDD[4] at RDD at PythonRDD.scala:48"
      ]
     },
     "execution_count": 4,
     "metadata": {},
     "output_type": "execute_result"
    }
   ],
   "source": [
    "data=sc.textFile(\"./part-*\")\n",
    "al=data.map(lambda x:(x.split(\" \")[0],\" \".join(x.split(\" \")[1:])))\n",
    "al=al.filter(lambda x:x[1].find(\"null\")==-1 and\\\n",
    "        time.localtime(time.mktime(time.strptime(x[1].split(\" \")[1]+\" \"+x[1].split(\" \")[2],\"%Y-%m-%d %H:%M:%S\"))-10800).tm_wday<5)\n",
    "al.cache()"
   ]
  },
  {
   "cell_type": "code",
   "execution_count": 139,
   "metadata": {
    "collapsed": false
   },
   "outputs": [],
   "source": [
    "motif = al.groupByKey()\\\n",
    "            .mapValues(list)\\\n",
    "            .mapValues(sor)\\\n",
    "            .map(lambda x:(x[0],style_conv(location_to_motif(x[1]))))\n",
    "all_motif=motif.flatMap(lambda x:x[1]).distinct().collect()\n",
    "broad_motif=sc.broadcast(motifiso(all_motif))\n",
    "isomotif=motif.flatMapValues(lambda x:x)\\\n",
    "            .mapValues(lambda x:iso(x,broad_motif.value))\\\n",
    "            .groupByKey()\\\n",
    "            .mapValues(list) \n",
    "everyone_motif=isomotif.mapValues(count_motif)\n",
    "motifday = al.groupByKey()\\\n",
    "                .mapValues(list)\\\n",
    "                .mapValues(sor)\\\n",
    "                .mapValues(location_to_motif_anddate)\\\n",
    "                .mapValues(lambda x:day_iso(x,broad_motif.value))\\\n",
    "                .flatMapValues(lambda x:x)"
   ]
  },
  {
   "cell_type": "code",
   "execution_count": 153,
   "metadata": {
    "collapsed": false
   },
   "outputs": [
    {
     "data": {
      "text/plain": [
       "[('2014-10-09', [2, 4, 4]),\n",
       " ('2014-09-15', [4, 4, 4]),\n",
       " ('2014-12-01', [1, 2, 2]),\n",
       " ('2014-10-17', [0, 1, 2]),\n",
       " ('2014-12-26', [0, 0, 0]),\n",
       " ('2015-01-03', [0, 0, 0]),\n",
       " ('2014-12-12', [1, 1, 1]),\n",
       " ('2015-01-13', [2, 3, 4]),\n",
       " ('2014-11-27', [2, 3, 4]),\n",
       " ('2015-01-16', [3, 3, 5])]"
      ]
     },
     "execution_count": 153,
     "metadata": {},
     "output_type": "execute_result"
    }
   ],
   "source": [
    "t=motifday.join(everyone_motif)\\\n",
    "            .map(lambda x:x[1])\\\n",
    "            .map(lambda x:(x[0][0],x[1][x[0][1]]))\\\n",
    "            .groupByKey()\\\n",
    "            .mapValues(list)\n",
    "abnormal=t.mapValues(count_abnormal)\n",
    "abnormal.take(10)"
   ]
  },
  {
   "cell_type": "code",
   "execution_count": 244,
   "metadata": {
    "collapsed": false
   },
   "outputs": [],
   "source": [
    "holiday=['2014-10-01', '2014-10-02', '2014-10-03', '2015-01-01', '2015-04-04', '2015-04-08', '2015-05-01',  '2015-06-09']\n",
    "weather=sc.textFile(\"./newweather\")\\\n",
    "            .map(lambda x:x.split(\"\\t\"))\\\n",
    "            .map(lambda x:(x[0],x[1:]))\\\n",
    "            .join(abnormal)\\\n",
    "            .mapValues(lambda x:x[0]+list(map(str,x[1])))\\\n",
    "            .map(lambda x:x[0]+\",\"+\",\".join(x[1]))"
   ]
  },
  {
   "cell_type": "code",
   "execution_count": 245,
   "metadata": {
    "collapsed": false
   },
   "outputs": [
    {
     "data": {
      "text/plain": [
       "['2014-10-15,22,0,2,3,4',\n",
       " '2014-11-13,14,0,3,5,5',\n",
       " '2014-11-26,17,0,2,3,6',\n",
       " '2014-12-03,9,1,1,3,5',\n",
       " '2014-12-23,13,0,3,4,6',\n",
       " '2014-09-18,23,1,2,3,3',\n",
       " '2014-10-23,23,0,4,5,5',\n",
       " '2014-11-12,17,0,5,7,7',\n",
       " '2014-09-23,26,1,4,5,6',\n",
       " '2014-11-11,18,0,2,5,6',\n",
       " '2014-11-25,14,1,2,3,4',\n",
       " '2014-11-17,15,0,1,2,3',\n",
       " '2014-12-29,14,0,0,1,2',\n",
       " '2014-11-07,18,0,3,3,4',\n",
       " '2014-10-30,21,1,2,2,2',\n",
       " '2014-12-08,10,0,1,3,4',\n",
       " '2014-09-29,30,1,0,0,0',\n",
       " '2014-12-26,10,0,0,0,0',\n",
       " '2014-10-24,25,0,3,3,3',\n",
       " '2014-10-16,24,0,2,3,5',\n",
       " '2014-09-19,22,1,1,1,1',\n",
       " '2014-11-05,22,0,4,5,5',\n",
       " '2014-09-16,28,0,4,6,6',\n",
       " '2014-11-24,21,1,0,0,1',\n",
       " '2014-11-28,17,0,0,2,2',\n",
       " '2014-11-20,19,0,3,5,6',\n",
       " '2014-09-17,28,0,2,2,3',\n",
       " '2014-09-15,28,0,4,4,4',\n",
       " '2014-12-09,12,0,1,4,5',\n",
       " '2014-12-18,9,0,4,4,4',\n",
       " '2015-01-14,10,1,0,0,0',\n",
       " '2014-11-27,19,0,2,3,4',\n",
       " '2014-10-22,24,0,1,4,5',\n",
       " '2014-09-26,28,0,0,1,2',\n",
       " '2014-12-22,8,0,3,3,5',\n",
       " '2015-01-03,13,0,0,0,0',\n",
       " '2014-10-02,27,0,0,0,0',\n",
       " '2015-01-02,9,0,0,0,0',\n",
       " '2015-01-13,10,1,2,3,4',\n",
       " '2014-10-06,24,0,0,0,0',\n",
       " '2014-10-14,21,0,3,3,4',\n",
       " '2014-10-08,25,0,0,0,2',\n",
       " '2014-09-30,23,1,1,2,2',\n",
       " '2015-01-08,9,0,1,2,2',\n",
       " '2015-01-16,12,0,3,3,5',\n",
       " '2014-12-19,11,0,2,3,3',\n",
       " '2014-12-16,5,0,4,5,7',\n",
       " '2014-11-14,16,0,2,4,4',\n",
       " '2014-10-13,21,0,2,2,3',\n",
       " '2014-12-17,6,0,2,3,5',\n",
       " '2014-10-03,25,0,0,0,0',\n",
       " '2014-10-20,29,0,4,7,8',\n",
       " '2014-11-18,16,0,1,2,2',\n",
       " '2014-10-10,26,0,2,4,4',\n",
       " '2014-12-12,8,0,1,1,1',\n",
       " '2015-01-15,12,0,2,2,3',\n",
       " '2014-12-31,11,0,3,4,5',\n",
       " '2015-01-05,21,0,2,3,4',\n",
       " '2015-01-06,9,1,2,5,5',\n",
       " '2014-12-04,7,0,1,1,1',\n",
       " '2014-12-10,13,1,1,2,2',\n",
       " '2014-12-15,13,0,1,1,2',\n",
       " '2014-12-24,12,0,4,5,5',\n",
       " '2014-10-31,22,1,2,4,5',\n",
       " '2015-01-09,12,0,0,2,2',\n",
       " '2015-01-07,7,0,2,2,2',\n",
       " '2014-10-21,26,1,4,6,7',\n",
       " '2014-09-24,26,1,3,7,8',\n",
       " '2015-01-01,5,0,0,0,0',\n",
       " '2014-12-02,9,0,1,1,2',\n",
       " '2014-10-07,23,0,0,0,0',\n",
       " '2014-09-25,27,0,5,6,6',\n",
       " '2014-11-03,17,0,1,3,4',\n",
       " '2014-10-01,24,0,1,1,1',\n",
       " '2014-10-27,21,0,3,4,4',\n",
       " '2014-12-30,15,0,2,3,5',\n",
       " '2014-12-25,9,0,3,5,7',\n",
       " '2014-12-11,9,0,3,3,3',\n",
       " '2014-10-09,25,0,2,4,4',\n",
       " '2015-01-12,10,0,1,3,3',\n",
       " '2014-12-01,9,0,1,2,2',\n",
       " '2014-10-17,24,0,0,1,2',\n",
       " '2014-11-10,18,0,3,4,6',\n",
       " '2014-09-22,26,1,1,2,2',\n",
       " '2014-12-05,7,0,1,3,3',\n",
       " '2014-11-21,21,0,1,2,4',\n",
       " '2014-11-04,18,0,4,8,8',\n",
       " '2014-11-19,17,0,0,1,2',\n",
       " '2014-10-29,22,1,2,3,5',\n",
       " '2014-10-28,21,0,4,4,4',\n",
       " '2014-11-06,21,0,3,4,5']"
      ]
     },
     "execution_count": 245,
     "metadata": {},
     "output_type": "execute_result"
    }
   ],
   "source": [
    "weather.collect()"
   ]
  },
  {
   "cell_type": "code",
   "execution_count": 106,
   "metadata": {
    "collapsed": false
   },
   "outputs": [
    {
     "data": {
      "text/plain": [
       "'null'"
      ]
     },
     "execution_count": 106,
     "metadata": {},
     "output_type": "execute_result"
    }
   ],
   "source": [
    "charge=1\n",
    "click=0\n",
    "ACP=charge/click if click!=0 else \"null\"\n",
    "ACP"
   ]
  },
  {
   "cell_type": "raw",
   "metadata": {},
   "source": [
    "process the weather"
   ]
  },
  {
   "cell_type": "code",
   "execution_count": 233,
   "metadata": {
    "collapsed": false
   },
   "outputs": [],
   "source": [
    "def date_process(a):\n",
    "    replace_word=\"-\"\n",
    "    if a.index('日')-a.index('月')==2:\n",
    "        replace_word=\"-0\"\n",
    "    a=a.replace(\"月\",replace_word)\n",
    "    a=a.replace(\"日\",\"\")\n",
    "    if len(a)==5:\n",
    "        a=\"2014-\"+a\n",
    "    elif a[:2]==\"1-\":\n",
    "        a=\"2015-0\"+a\n",
    "    else:\n",
    "        a=\"2014-0\"+a\n",
    "    return a\n",
    "\n",
    "def all_process(t):\n",
    "    t[0]=date_process(t[0])\n",
    "    t[1]=t[1].split(\" \")[0]\n",
    "    t[3]=\"0\" if \"雨\"not in t[3] else \"1\"\n",
    "    re=\"\\t\".join([t[0],t[1],t[3]])\n",
    "    return re+\"\\n\"\n",
    "weather=sc.textFile(\"./weather\")\\\n",
    "            .map(lambda x:x.split(\"\\t\")).map(lambda x:all_process(x)).collect()\n",
    "f=open(\"newweather\",'w')\n",
    "f.writelines(weather)\n",
    "f.close()"
   ]
  },
  {
   "cell_type": "code",
   "execution_count": 204,
   "metadata": {
    "collapsed": false
   },
   "outputs": [
    {
     "name": "stdout",
     "output_type": "stream",
     "text": [
      "中文\n"
     ]
    }
   ],
   "source": [
    "s=u\"中文\" \n",
    "print(s)"
   ]
  },
  {
   "cell_type": "code",
   "execution_count": 1,
   "metadata": {
    "collapsed": false
   },
   "outputs": [],
   "source": [
    "a=[1,2,3]\n",
    "c=[1,2,4,5,6]\n",
    "b=sc.parallelize(a).map(lambda x:(x,1))\n",
    "d=sc.parallelize(c).map(lambda x:(x,1))"
   ]
  },
  {
   "cell_type": "code",
   "execution_count": 4,
   "metadata": {
    "collapsed": false
   },
   "outputs": [
    {
     "data": {
      "text/plain": [
       "[(1, 1), (2, 1), (4, 0), (5, 0), (6, 0)]"
      ]
     },
     "execution_count": 4,
     "metadata": {},
     "output_type": "execute_result"
    }
   ],
   "source": [
    "d.leftOuterJoin(b).mapValues(lambda x:1 if x[1]!=None else 0).collect()"
   ]
  },
  {
   "cell_type": "code",
   "execution_count": null,
   "metadata": {
    "collapsed": true
   },
   "outputs": [],
   "source": []
  }
 ],
 "metadata": {
  "kernelspec": {
   "display_name": "PySpark ",
   "language": "python",
   "name": "spark"
  },
  "language_info": {
   "codemirror_mode": {
    "name": "ipython",
    "version": 3
   },
   "file_extension": ".py",
   "mimetype": "text/x-python",
   "name": "python",
   "nbconvert_exporter": "python",
   "pygments_lexer": "ipython3",
   "version": "3.5.2"
  }
 },
 "nbformat": 4,
 "nbformat_minor": 1
}
